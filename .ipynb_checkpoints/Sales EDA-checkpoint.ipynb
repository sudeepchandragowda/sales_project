{
 "cells": [
  {
   "cell_type": "code",
   "execution_count": 1,
   "id": "b5bec20c-17ff-4778-aa48-890db72a5f23",
   "metadata": {},
   "outputs": [
    {
     "name": "stdout",
     "output_type": "stream",
     "text": [
      "Total Sales: $112,133,610.41\n",
      "Quantity Sold: 497254\n",
      "Average Discount: 15.06%\n"
     ]
    }
   ],
   "source": [
    "import pandas as pd\n",
    "\n",
    "\n",
    "# Load the dataset\n",
    "sales_transactions = pd.read_csv(\"sales_transactions.csv\")\n",
    "\n",
    "# Calculate key metrics\n",
    "total_sales = sales_transactions[\"Total Sales\"].sum()\n",
    "total_quantity = sales_transactions[\"Quantity Sold\"].sum()\n",
    "average_discount = sales_transactions[\"Discount\"].mean()\n",
    "\n",
    "# Print the results\n",
    "print(f\"Total Sales: ${total_sales:,.2f}\")\n",
    "print(f\"Quantity Sold: {total_quantity}\")\n",
    "print(f\"Average Discount: {average_discount:.2%}\")"
   ]
  },
  {
   "cell_type": "code",
   "execution_count": null,
   "id": "ad47064c-506b-46f3-aac1-f26a1284cd86",
   "metadata": {},
   "outputs": [],
   "source": []
  }
 ],
 "metadata": {
  "kernelspec": {
   "display_name": "Python [conda env:base] *",
   "language": "python",
   "name": "conda-base-py"
  },
  "language_info": {
   "codemirror_mode": {
    "name": "ipython",
    "version": 3
   },
   "file_extension": ".py",
   "mimetype": "text/x-python",
   "name": "python",
   "nbconvert_exporter": "python",
   "pygments_lexer": "ipython3",
   "version": "3.12.7"
  }
 },
 "nbformat": 4,
 "nbformat_minor": 5
}
